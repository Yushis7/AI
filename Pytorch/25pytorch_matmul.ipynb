{
 "cells": [
  {
   "cell_type": "code",
   "execution_count": 1,
   "metadata": {},
   "outputs": [
    {
     "name": "stdout",
     "output_type": "stream",
     "text": [
      "tensor([[0.9824, 0.4105],\n",
      "        [0.7154, 0.6873]])\n",
      "tensor([[0.1352, 0.0361],\n",
      "        [0.3277, 0.8578]])\n"
     ]
    }
   ],
   "source": [
    "import torch\n",
    "\n",
    "x = torch.rand(2,2)\n",
    "print(x)\n",
    "y = torch.rand(2,2)\n",
    "print(y)"
   ]
  },
  {
   "cell_type": "code",
   "execution_count": 2,
   "metadata": {},
   "outputs": [
    {
     "name": "stdout",
     "output_type": "stream",
     "text": [
      "tensor([[0.9824, 0.4105],\n",
      "        [0.7154, 0.6873]])\n",
      "tensor([[0.1352, 0.0361],\n",
      "        [0.3277, 0.8578]])\n",
      "tensor([[0.2673, 0.3876],\n",
      "        [0.3219, 0.6153]])\n",
      "tensor([[0.2673, 0.3876],\n",
      "        [0.3219, 0.6153]])\n",
      "torch.return_types.svd(\n",
      "U=tensor([[-0.5601, -0.8284],\n",
      "        [-0.8284,  0.5601]]),\n",
      "S=tensor([0.8377, 0.0474]),\n",
      "V=tensor([[-0.4971, -0.8677],\n",
      "        [-0.8677,  0.4971]]))\n"
     ]
    }
   ],
   "source": [
    "print(x)\n",
    "print(y)\n",
    "print(torch.matmul(x,y))\n",
    "z = torch.mm(x,y)\n",
    "print(z)\n",
    "print(torch.svd(z))"
   ]
  },
  {
   "cell_type": "code",
   "execution_count": null,
   "metadata": {},
   "outputs": [],
   "source": []
  }
 ],
 "metadata": {
  "kernelspec": {
   "display_name": "Python 3",
   "language": "python",
   "name": "python3"
  },
  "language_info": {
   "codemirror_mode": {
    "name": "ipython",
    "version": 3
   },
   "file_extension": ".py",
   "mimetype": "text/x-python",
   "name": "python",
   "nbconvert_exporter": "python",
   "pygments_lexer": "ipython3",
   "version": "3.11.4"
  }
 },
 "nbformat": 4,
 "nbformat_minor": 2
}
