{
 "cells": [
  {
   "cell_type": "code",
   "execution_count": 1,
   "metadata": {},
   "outputs": [
    {
     "name": "stdout",
     "output_type": "stream",
     "text": [
      "tensor([[0.2449, 0.3035],\n",
      "        [0.0107, 0.1062]])\n",
      "tensor([[0.7913, 0.9732],\n",
      "        [0.4276, 0.9534]])\n"
     ]
    }
   ],
   "source": [
    "import torch\n",
    "\n",
    "x = torch.rand(2,2)\n",
    "print(x)\n",
    "y = torch.rand(2,2)\n",
    "print(y)"
   ]
  },
  {
   "cell_type": "code",
   "execution_count": 3,
   "metadata": {},
   "outputs": [
    {
     "name": "stdout",
     "output_type": "stream",
     "text": [
      "tensor([[0.2449, 0.3035],\n",
      "        [0.0107, 0.1062]])\n",
      "tensor([[0.7913, 0.9732],\n",
      "        [0.4276, 0.9534]])\n",
      "tensor([[0.1938, 0.2953],\n",
      "        [0.0046, 0.1013]])\n",
      "tensor([[0.1938, 0.2953],\n",
      "        [0.0046, 0.1013]])\n",
      "tensor([[0.1938, 0.2953],\n",
      "        [0.0046, 0.1013]])\n"
     ]
    }
   ],
   "source": [
    "print(x)\n",
    "print(y)\n",
    "print(x*y)\n",
    "print(torch.mul(x,y))\n",
    "print(x.mul(y))\n"
   ]
  }
 ],
 "metadata": {
  "kernelspec": {
   "display_name": "Python 3",
   "language": "python",
   "name": "python3"
  },
  "language_info": {
   "codemirror_mode": {
    "name": "ipython",
    "version": 3
   },
   "file_extension": ".py",
   "mimetype": "text/x-python",
   "name": "python",
   "nbconvert_exporter": "python",
   "pygments_lexer": "ipython3",
   "version": "3.11.4"
  }
 },
 "nbformat": 4,
 "nbformat_minor": 2
}
