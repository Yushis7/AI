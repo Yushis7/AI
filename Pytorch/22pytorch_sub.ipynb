{
 "cells": [
  {
   "cell_type": "code",
   "execution_count": 1,
   "metadata": {},
   "outputs": [
    {
     "name": "stdout",
     "output_type": "stream",
     "text": [
      "tensor([[0.7436, 0.8212],\n",
      "        [0.3608, 0.4835]])\n",
      "tensor([[0.8880, 0.2228],\n",
      "        [0.4558, 0.2231]])\n"
     ]
    }
   ],
   "source": [
    "import torch\n",
    "\n",
    "x = torch.rand(2,2)\n",
    "print(x)\n",
    "y = torch.rand(2,2)\n",
    "print(y)"
   ]
  },
  {
   "cell_type": "code",
   "execution_count": 2,
   "metadata": {},
   "outputs": [
    {
     "name": "stdout",
     "output_type": "stream",
     "text": [
      "tensor([[0.7436, 0.8212],\n",
      "        [0.3608, 0.4835]])\n",
      "tensor([[0.8880, 0.2228],\n",
      "        [0.4558, 0.2231]])\n",
      "tensor([[-0.1444,  0.5984],\n",
      "        [-0.0950,  0.2604]])\n",
      "tensor([[-0.1444,  0.5984],\n",
      "        [-0.0950,  0.2604]])\n",
      "tensor([[-0.1444,  0.5984],\n",
      "        [-0.0950,  0.2604]])\n"
     ]
    }
   ],
   "source": [
    "print(x)\n",
    "print(y)\n",
    "print(x-y)\n",
    "print(torch.sub(x,y))\n",
    "print(x.sub(y))\n"
   ]
  }
 ],
 "metadata": {
  "kernelspec": {
   "display_name": "Python 3",
   "language": "python",
   "name": "python3"
  },
  "language_info": {
   "codemirror_mode": {
    "name": "ipython",
    "version": 3
   },
   "file_extension": ".py",
   "mimetype": "text/x-python",
   "name": "python",
   "nbconvert_exporter": "python",
   "pygments_lexer": "ipython3",
   "version": "3.11.4"
  }
 },
 "nbformat": 4,
 "nbformat_minor": 2
}
