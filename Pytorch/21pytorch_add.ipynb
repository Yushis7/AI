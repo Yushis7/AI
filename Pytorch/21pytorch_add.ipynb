{
 "cells": [
  {
   "cell_type": "code",
   "execution_count": 1,
   "metadata": {},
   "outputs": [
    {
     "name": "stdout",
     "output_type": "stream",
     "text": [
      "tensor([[0.2687, 0.4396],\n",
      "        [0.5110, 0.7001]])\n",
      "tensor([[0.8798, 0.0517],\n",
      "        [0.4644, 0.0605]])\n"
     ]
    }
   ],
   "source": [
    "import torch\n",
    "\n",
    "x = torch.rand(2,2)\n",
    "print(x)\n",
    "y = torch.rand(2,2)\n",
    "print(y)"
   ]
  },
  {
   "cell_type": "code",
   "execution_count": 2,
   "metadata": {},
   "outputs": [
    {
     "name": "stdout",
     "output_type": "stream",
     "text": [
      "tensor([[1.1485, 0.4913],\n",
      "        [0.9754, 0.7606]])\n",
      "tensor([[1.1485, 0.4913],\n",
      "        [0.9754, 0.7606]])\n"
     ]
    }
   ],
   "source": [
    "print(x+y)\n",
    "print(torch.add(x,y))"
   ]
  },
  {
   "cell_type": "code",
   "execution_count": 3,
   "metadata": {},
   "outputs": [
    {
     "name": "stdout",
     "output_type": "stream",
     "text": [
      "tensor([[0.2687, 0.4396],\n",
      "        [0.5110, 0.7001]])\n",
      "tensor([[0.8798, 0.0517],\n",
      "        [0.4644, 0.0605]])\n",
      "tensor([[1.1485, 0.4913],\n",
      "        [0.9754, 0.7606]])\n"
     ]
    }
   ],
   "source": [
    "print(x)\n",
    "print(y)\n",
    "y.add_(x)\n",
    "print(y)"
   ]
  },
  {
   "cell_type": "markdown",
   "metadata": {},
   "source": []
  }
 ],
 "metadata": {
  "kernelspec": {
   "display_name": "Python 3",
   "language": "python",
   "name": "python3"
  },
  "language_info": {
   "codemirror_mode": {
    "name": "ipython",
    "version": 3
   },
   "file_extension": ".py",
   "mimetype": "text/x-python",
   "name": "python",
   "nbconvert_exporter": "python",
   "pygments_lexer": "ipython3",
   "version": "3.11.4"
  }
 },
 "nbformat": 4,
 "nbformat_minor": 2
}
