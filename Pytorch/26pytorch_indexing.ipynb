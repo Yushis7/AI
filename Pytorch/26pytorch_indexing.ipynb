{
 "cells": [
  {
   "cell_type": "code",
   "execution_count": 2,
   "metadata": {},
   "outputs": [
    {
     "name": "stdout",
     "output_type": "stream",
     "text": [
      "tensor([[1., 2.],\n",
      "        [3., 4.]])\n",
      "tensor(1.)\n",
      "tensor(2.)\n",
      "tensor(3.)\n",
      "tensor(4.)\n",
      "tensor([1., 3.])\n",
      "tensor([2., 4.])\n",
      "tensor([1., 2.])\n",
      "tensor([3., 4.])\n"
     ]
    }
   ],
   "source": [
    "import torch\n",
    "\n",
    "x = torch.Tensor([[1,2],\n",
    "                 [3,4]])\n",
    "print(x)\n",
    "\n",
    "print(x[0,0])\n",
    "print(x[0,1])\n",
    "print(x[1,0])\n",
    "print(x[1,1])\n",
    "\n",
    "print(x[:,0])\n",
    "print(x[:,1])\n",
    "\n",
    "print(x[0,:])\n",
    "print(x[1,:])\n"
   ]
  }
 ],
 "metadata": {
  "kernelspec": {
   "display_name": "Python 3",
   "language": "python",
   "name": "python3"
  },
  "language_info": {
   "codemirror_mode": {
    "name": "ipython",
    "version": 3
   },
   "file_extension": ".py",
   "mimetype": "text/x-python",
   "name": "python",
   "nbconvert_exporter": "python",
   "pygments_lexer": "ipython3",
   "version": "3.11.4"
  }
 },
 "nbformat": 4,
 "nbformat_minor": 2
}
