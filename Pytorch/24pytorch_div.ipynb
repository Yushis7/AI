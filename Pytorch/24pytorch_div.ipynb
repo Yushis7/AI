{
 "cells": [
  {
   "cell_type": "code",
   "execution_count": 2,
   "metadata": {},
   "outputs": [
    {
     "name": "stdout",
     "output_type": "stream",
     "text": [
      "tensor([[0.3338, 0.8659],\n",
      "        [0.1821, 0.4261]])\n",
      "tensor([[0.2618, 0.9783],\n",
      "        [0.4670, 0.8028]])\n"
     ]
    }
   ],
   "source": [
    "import torch\n",
    "\n",
    "x = torch.rand(2,2)\n",
    "print(x)\n",
    "y = torch.rand(2,2)\n",
    "print(y)"
   ]
  },
  {
   "cell_type": "code",
   "execution_count": 3,
   "metadata": {},
   "outputs": [
    {
     "name": "stdout",
     "output_type": "stream",
     "text": [
      "tensor([[0.3338, 0.8659],\n",
      "        [0.1821, 0.4261]])\n",
      "tensor([[0.2618, 0.9783],\n",
      "        [0.4670, 0.8028]])\n",
      "tensor([[1.2754, 0.8851],\n",
      "        [0.3899, 0.5308]])\n",
      "tensor([[1.2754, 0.8851],\n",
      "        [0.3899, 0.5308]])\n",
      "tensor([[1.2754, 0.8851],\n",
      "        [0.3899, 0.5308]])\n"
     ]
    }
   ],
   "source": [
    "print(x)\n",
    "print(y)\n",
    "print(x/y)\n",
    "print(torch.div (x,y))\n",
    "print(x.div (y))\n"
   ]
  }
 ],
 "metadata": {
  "kernelspec": {
   "display_name": "Python 3",
   "language": "python",
   "name": "python3"
  },
  "language_info": {
   "codemirror_mode": {
    "name": "ipython",
    "version": 3
   },
   "file_extension": ".py",
   "mimetype": "text/x-python",
   "name": "python",
   "nbconvert_exporter": "python",
   "pygments_lexer": "ipython3",
   "version": "3.11.4"
  }
 },
 "nbformat": 4,
 "nbformat_minor": 2
}
