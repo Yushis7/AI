{
 "cells": [
  {
   "cell_type": "code",
   "execution_count": 3,
   "metadata": {},
   "outputs": [
    {
     "name": "stdout",
     "output_type": "stream",
     "text": [
      "tensor([[0.0687, 0.9193],\n",
      "        [0.8199, 0.3638]])\n",
      "torch.return_types.max(\n",
      "values=tensor([0.8199, 0.9193]),\n",
      "indices=tensor([1, 0]))\n",
      "torch.return_types.max(\n",
      "values=tensor([0.9193, 0.8199]),\n",
      "indices=tensor([1, 0]))\n"
     ]
    }
   ],
   "source": [
    "import torch\n",
    "\n",
    "x = torch.rand(2,2)\n",
    "print(x)\n",
    "print(x.max(dim=0)) #두 값중 더 큰 값 하나만 1로 출력\n",
    "print(x.max(dim=1)) #두 값중 더 큰 값을 1로 출력\n",
    "\n",
    "#argmax 최대값을 가진 인덱스 , argmin 최소값을 가진 인덱스"
   ]
  }
 ],
 "metadata": {
  "kernelspec": {
   "display_name": "Python 3",
   "language": "python",
   "name": "python3"
  },
  "language_info": {
   "codemirror_mode": {
    "name": "ipython",
    "version": 3
   },
   "file_extension": ".py",
   "mimetype": "text/x-python",
   "name": "python",
   "nbconvert_exporter": "python",
   "pygments_lexer": "ipython3",
   "version": "3.11.4"
  }
 },
 "nbformat": 4,
 "nbformat_minor": 2
}
