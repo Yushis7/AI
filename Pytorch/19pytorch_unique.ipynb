{
 "cells": [
  {
   "cell_type": "code",
   "execution_count": 3,
   "metadata": {},
   "outputs": [
    {
     "name": "stdout",
     "output_type": "stream",
     "text": [
      "tensor([[-0.7978, -0.3827]])\n",
      "tensor(-0.7978)\n",
      "tensor(-0.3827)\n",
      "tensor(-0.5903)\n",
      "tensor(0.2935)\n",
      "tensor(0.3053)\n",
      "tensor([1, 2, 3])\n"
     ]
    }
   ],
   "source": [
    "import torch\n",
    "import math\n",
    "a= torch.rand(1,2)*2-1\n",
    "\n",
    "print(a)\n",
    "print(torch.min(a))\n",
    "print(torch.max(a))\n",
    "print(torch.mean(a)) #평균값\n",
    "print(torch.std(a)) #표준편차\n",
    "print(torch.prod(a)) #곱\n",
    "print(torch.unique(torch.tensor([1,2,3,1,2,2,]))) #유니크한 값 중복값은 없애고 단일 숫자만\n"
   ]
  }
 ],
 "metadata": {
  "kernelspec": {
   "display_name": "Python 3",
   "language": "python",
   "name": "python3"
  },
  "language_info": {
   "codemirror_mode": {
    "name": "ipython",
    "version": 3
   },
   "file_extension": ".py",
   "mimetype": "text/x-python",
   "name": "python",
   "nbconvert_exporter": "python",
   "pygments_lexer": "ipython3",
   "version": "3.11.4"
  }
 },
 "nbformat": 4,
 "nbformat_minor": 2
}
